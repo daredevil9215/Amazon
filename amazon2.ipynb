{
 "cells": [
  {
   "cell_type": "code",
   "execution_count": 1,
   "metadata": {},
   "outputs": [],
   "source": [
    "# Ucitaj numpy, pandas i re\n",
    "import numpy as np\n",
    "import pandas as pd\n",
    "import re"
   ]
  },
  {
   "cell_type": "code",
   "execution_count": 2,
   "metadata": {},
   "outputs": [
    {
     "data": {
      "text/html": [
       "<div>\n",
       "<style scoped>\n",
       "    .dataframe tbody tr th:only-of-type {\n",
       "        vertical-align: middle;\n",
       "    }\n",
       "\n",
       "    .dataframe tbody tr th {\n",
       "        vertical-align: top;\n",
       "    }\n",
       "\n",
       "    .dataframe thead th {\n",
       "        text-align: right;\n",
       "    }\n",
       "</style>\n",
       "<table border=\"1\" class=\"dataframe\">\n",
       "  <thead>\n",
       "    <tr style=\"text-align: right;\">\n",
       "      <th></th>\n",
       "      <th>Rating</th>\n",
       "      <th>Review</th>\n",
       "    </tr>\n",
       "  </thead>\n",
       "  <tbody>\n",
       "    <tr>\n",
       "      <th>0</th>\n",
       "      <td>1</td>\n",
       "      <td>I'm reading a lot of reviews saying that this ...</td>\n",
       "    </tr>\n",
       "    <tr>\n",
       "      <th>1</th>\n",
       "      <td>1</td>\n",
       "      <td>This soundtrack is my favorite music of all ti...</td>\n",
       "    </tr>\n",
       "    <tr>\n",
       "      <th>2</th>\n",
       "      <td>1</td>\n",
       "      <td>I truly like this soundtrack and I enjoy video...</td>\n",
       "    </tr>\n",
       "    <tr>\n",
       "      <th>3</th>\n",
       "      <td>1</td>\n",
       "      <td>If you've played the game, you know how divine...</td>\n",
       "    </tr>\n",
       "    <tr>\n",
       "      <th>4</th>\n",
       "      <td>1</td>\n",
       "      <td>I am quite sure any of you actually taking the...</td>\n",
       "    </tr>\n",
       "  </tbody>\n",
       "</table>\n",
       "</div>"
      ],
      "text/plain": [
       "   Rating                                             Review\n",
       "0       1  I'm reading a lot of reviews saying that this ...\n",
       "1       1  This soundtrack is my favorite music of all ti...\n",
       "2       1  I truly like this soundtrack and I enjoy video...\n",
       "3       1  If you've played the game, you know how divine...\n",
       "4       1  I am quite sure any of you actually taking the..."
      ]
     },
     "execution_count": 2,
     "metadata": {},
     "output_type": "execute_result"
    }
   ],
   "source": [
    "# Ucitaj trening podatke\n",
    "data_train = pd.read_csv('500train.csv')\n",
    "\n",
    "data_train.columns = ['Rating', 'Title', 'Review']\n",
    "\n",
    "data_train = data_train.drop(columns=['Title'])\n",
    "\n",
    "data_train['Rating'] = data_train['Rating'].apply(lambda x: x - 1)\n",
    "\n",
    "# Prikazi podatke\n",
    "data_train.head()"
   ]
  },
  {
   "cell_type": "code",
   "execution_count": 3,
   "metadata": {},
   "outputs": [
    {
     "name": "stdout",
     "output_type": "stream",
     "text": [
      "Unique words: 5712\n",
      "Data shape: (499, 5712)\n"
     ]
    }
   ],
   "source": [
    "# Funkcija za stvaranje bag-of-words vektora\n",
    "def calculateBOW(words, sentence):\n",
    "    vector = dict.fromkeys(words, 0)\n",
    "    for word in sentence:\n",
    "        vector[word] = sentence.count(word)\n",
    "    return vector\n",
    "\n",
    "# Funkcija koja postavlja recenice u lowercase, mice interpunkcijske znakove i stvara matricu rijeci svake recenice\n",
    "def transform_data(data):\n",
    "    sentences = []\n",
    "    for i in data:\n",
    "        sentences.append(re.sub(r\"[^a-zA-Z0-9]\", \" \", i.lower()).split())\n",
    "    return sentences\n",
    "\n",
    "# Funkcija koja vraca unikatne rijeci\n",
    "def get_unique_words(sentences):\n",
    "    vocabulary = set()\n",
    "    for i in sentences:\n",
    "        for j in i:\n",
    "            vocabulary.add(j)\n",
    "    return vocabulary\n",
    "\n",
    "# Rasclani recenice na rijeci\n",
    "sentences_train = transform_data(data_train['Review'])\n",
    "\n",
    "# Stvori popis unikatnih rijeci\n",
    "vocabulary = get_unique_words(sentences_train)\n",
    "\n",
    "# Ispis koliko ima unikatnih rijeci\n",
    "print(f'Unique words: {len(vocabulary)}')\n",
    "\n",
    "# Izracunaj bag-of-words za svaku recenicu\n",
    "bow = []\n",
    "for i in sentences_train:\n",
    "    bow.append(calculateBOW(vocabulary, i))\n",
    "\n",
    "# Iz liste bow stvori DataFrame objekt\n",
    "data_reviews = pd.DataFrame(bow)\n",
    "\n",
    "# Ispisi dimenzije podataka\n",
    "print(f'Data shape: {data_reviews.shape}')"
   ]
  },
  {
   "cell_type": "code",
   "execution_count": 4,
   "metadata": {},
   "outputs": [
    {
     "name": "stdout",
     "output_type": "stream",
     "text": [
      "X_train shape: (349, 5712), y_train shape: (349, 1)\n",
      "X_test shape: (150, 5712), y_test shape: (150, 1)\n"
     ]
    }
   ],
   "source": [
    "\n",
    "\n",
    "# Pretvori pandas DataFrame u numpy array\n",
    "X_train = data_reviews.to_numpy()[:int(data_reviews.shape[0] * 0.7)]\n",
    "y_train = data_train['Rating'].to_numpy()[:int(data_reviews.shape[0] * 0.7)].reshape(-1, 1)\n",
    "\n",
    "X_test = data_reviews.to_numpy()[int(data_reviews.shape[0] * 0.7):]\n",
    "y_test = data_train['Rating'].to_numpy()[int(data_reviews.shape[0] * 0.7):].reshape(-1, 1)\n",
    "\n",
    "# Ispisi dimenzije podataka\n",
    "print(f'X_train shape: {X_train.shape}, y_train shape: {y_train.shape}')\n",
    "print(f'X_test shape: {X_test.shape}, y_test shape: {y_test.shape}')"
   ]
  },
  {
   "cell_type": "code",
   "execution_count": 5,
   "metadata": {},
   "outputs": [],
   "source": [
    "# Funkcija logisticke regresije za predvidanje\n",
    "def lr_h(x, w):\n",
    "    x = np.append(np.ones((x.shape[0], 1)), x, axis=1)\n",
    "    return 1 / (1 + np.exp(-1 * x @ w))\n",
    "\n",
    "# Funkcija pogreske logisticke regresije\n",
    "def cross_entropy_error(X, y, w):\n",
    "    return np.mean(-y.reshape(-1, 1) * np.log(np.clip(lr_h(X, w), 1e-7, 1 - 1e-7)) - (1 - y.reshape(-1, 1)) * np.log(1 - np.clip(lr_h(X, w), 1e-7, 1 - 1e-7)))\n",
    "\n",
    "# Funkcija kojom se trenira model logisticke regresije\n",
    "def lr_train(X, y, eta=0.01, max_iter=2000, alpha=0, epsilon=0.0001, trace=False):\n",
    "    \n",
    "    weight_matrix = []\n",
    "    last_error = 0\n",
    "    w = np.zeros((X.shape[1] + 1, 1))\n",
    "\n",
    "    for i in range(max_iter + 1):\n",
    "\n",
    "        weight_matrix.append(w.copy())\n",
    "\n",
    "        cur_error = cross_entropy_error(X, y, w)\n",
    "        if np.abs(cur_error - last_error) < epsilon:\n",
    "            break\n",
    "\n",
    "        dw = np.zeros((X.shape[1] + 1, 1))\n",
    "\n",
    "        for j in range(X.shape[0]):\n",
    "\n",
    "            h = lr_h(X[j].reshape(1, -1), w)\n",
    "            dw = dw - (h - y[j].reshape(1, 1)) * np.append(1, X[j]).reshape(-1, 1)\n",
    "\n",
    "        w[0] = w[0] + eta * dw[0]\n",
    "        w[1:] = w[1:] * (1 - eta * alpha) + eta * dw[1:]\n",
    "\n",
    "    weight_matrix = np.array(weight_matrix)\n",
    "\n",
    "    if trace:\n",
    "        return w, weight_matrix\n",
    "    else:\n",
    "        return w"
   ]
  },
  {
   "cell_type": "code",
   "execution_count": 6,
   "metadata": {},
   "outputs": [
    {
     "name": "stdout",
     "output_type": "stream",
     "text": [
      "Error: 0.01232794718740838\n",
      "Accuracy: 1.0\n"
     ]
    }
   ],
   "source": [
    "# Treniraj model, vrati tezine\n",
    "weights = lr_train(X_train, y_train, max_iter=200, alpha=0.5)\n",
    "\n",
    "# Ispis pogreske\n",
    "print(f'Error: {cross_entropy_error(X_train, y_train, weights)}')\n",
    "print(f'Accuracy: {np.mean(lr_h(X_train, weights).round() == y_train)}')"
   ]
  },
  {
   "cell_type": "code",
   "execution_count": 7,
   "metadata": {},
   "outputs": [
    {
     "name": "stdout",
     "output_type": "stream",
     "text": [
      "Error: 1.899304830065305\n",
      "Accuracy: 0.6133333333333333\n"
     ]
    }
   ],
   "source": [
    "# Ispis pogreske\n",
    "print(f'Error: {cross_entropy_error(X_test, y_test, weights)}')\n",
    "print(f'Accuracy: {np.mean(lr_h(X_test, weights).round() == y_test)}')"
   ]
  }
 ],
 "metadata": {
  "kernelspec": {
   "display_name": "Python 3",
   "language": "python",
   "name": "python3"
  },
  "language_info": {
   "codemirror_mode": {
    "name": "ipython",
    "version": 3
   },
   "file_extension": ".py",
   "mimetype": "text/x-python",
   "name": "python",
   "nbconvert_exporter": "python",
   "pygments_lexer": "ipython3",
   "version": "3.11.4"
  },
  "orig_nbformat": 4
 },
 "nbformat": 4,
 "nbformat_minor": 2
}
