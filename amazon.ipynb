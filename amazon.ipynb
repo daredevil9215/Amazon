{
 "cells": [
  {
   "cell_type": "code",
   "execution_count": 1,
   "metadata": {},
   "outputs": [],
   "source": [
    "# Ucitaj numpy, pandas i re\n",
    "import numpy as np\n",
    "import pandas as pd\n",
    "import re"
   ]
  },
  {
   "cell_type": "code",
   "execution_count": 2,
   "metadata": {},
   "outputs": [
    {
     "name": "stdout",
     "output_type": "stream",
     "text": [
      "   Rating                                             Review\n",
      "0       0  I got this for my daughter when she was one. S...\n",
      "1       0  The CD's arrival took longer than expected may...\n",
      "2       0  The waffles stuck so bad that I had to turn th...\n",
      "3       0  As an avid student of Chaos Theory and Fractal...\n",
      "4       0  The ONLY reason I gave this one star is becaus...\n"
     ]
    }
   ],
   "source": [
    "# Ucitaj trening podatke\n",
    "data_train = pd.read_csv('train.csv')\n",
    "\n",
    "# Postavi nazive stupaca (posto ih nema)\n",
    "data_train.columns = ['Rating', 'Title', 'Review']\n",
    "\n",
    "# Izbaci stupac Title\n",
    "data_train = data_train.drop(columns=['Title'])\n",
    "\n",
    "# Nasumicno uzmi 2.5% podataka\n",
    "data_train = data_train.sample(frac=0.0002)\n",
    "\n",
    "# Smanji sav Rating za 1 (1, 2) -> (0, 1)\n",
    "data_train['Rating'] = data_train['Rating'].apply(lambda x: x - 1)\n",
    "\n",
    "# Resetiraj index\n",
    "data_train = data_train.reset_index(drop=True)\n",
    "\n",
    "# Prikazi podatke\n",
    "print(data_train.head())"
   ]
  },
  {
   "cell_type": "code",
   "execution_count": 3,
   "metadata": {},
   "outputs": [
    {
     "name": "stdout",
     "output_type": "stream",
     "text": [
      "Unique words: 7628\n",
      "Data shape: (720, 7628)\n"
     ]
    }
   ],
   "source": [
    "# Funkcija za stvaranje bag-of-words vektora\n",
    "def calculateBOW(words, sentence):\n",
    "    vector = dict.fromkeys(words, 0)\n",
    "    for word in sentence:\n",
    "        vector[word] = sentence.count(word)\n",
    "    return vector\n",
    "\n",
    "# Funkcija koja postavlja recenice u lowercase, mice interpunkcijske znakove i stvara matricu rijeci svake recenice\n",
    "def transform_data(data):\n",
    "    sentences = []\n",
    "    for i in data:\n",
    "        sentences.append(re.sub(r\"[^a-zA-Z0-9]\", \" \", i.lower()).split())\n",
    "    return sentences\n",
    "\n",
    "# Funkcija koja vraca unikatne rijeci\n",
    "def get_unique_words(sentences):\n",
    "    vocabulary = set()\n",
    "    for i in sentences:\n",
    "        for j in i:\n",
    "            vocabulary.add(j)\n",
    "    return vocabulary\n",
    "\n",
    "# Rasclani recenice na rijeci\n",
    "sentences_train = transform_data(data_train['Review'])\n",
    "\n",
    "# Stvori popis unikatnih rijeci\n",
    "vocabulary = get_unique_words(sentences_train)\n",
    "\n",
    "# Ispis koliko ima unikatnih rijeci\n",
    "print(f'Unique words: {len(vocabulary)}')\n",
    "\n",
    "# Izracunaj bag-of-words za svaku recenicu\n",
    "bow = []\n",
    "for i in sentences_train:\n",
    "    bow.append(calculateBOW(vocabulary, i))\n",
    "\n",
    "# Iz liste bow stvori DataFrame objekt\n",
    "data_reviews = pd.DataFrame(bow)\n",
    "\n",
    "# Ispisi dimenzije podataka\n",
    "print(f'Data shape: {data_reviews.shape}')"
   ]
  },
  {
   "cell_type": "code",
   "execution_count": 4,
   "metadata": {},
   "outputs": [
    {
     "name": "stdout",
     "output_type": "stream",
     "text": [
      "X_train shape: (503, 7628), y_train shape: (503, 1)\n",
      "X_test shape: (217, 7628), y_test shape: (217, 1)\n"
     ]
    }
   ],
   "source": [
    "# Pretvori pandas DataFrame u numpy array\n",
    "X_train = data_reviews.to_numpy()[:int(data_reviews.shape[0] * 0.7)]\n",
    "y_train = data_train['Rating'].to_numpy()[:int(data_reviews.shape[0] * 0.7)].reshape(-1, 1)\n",
    "\n",
    "X_test = data_reviews.to_numpy()[int(data_reviews.shape[0] * 0.7):]\n",
    "y_test = data_train['Rating'].to_numpy()[int(data_reviews.shape[0] * 0.7):].reshape(-1, 1)\n",
    "\n",
    "# Ispisi dimenzije podataka\n",
    "print(f'X_train shape: {X_train.shape}, y_train shape: {y_train.shape}')\n",
    "print(f'X_test shape: {X_test.shape}, y_test shape: {y_test.shape}')"
   ]
  },
  {
   "cell_type": "code",
   "execution_count": 5,
   "metadata": {},
   "outputs": [],
   "source": [
    "# Funkcija logisticke regresije za predvidanje\n",
    "def lr_h(x, w):\n",
    "    x = np.append(np.ones((x.shape[0], 1)), x, axis=1)\n",
    "    return 1 / (1 + np.exp(-1 * x @ w))\n",
    "\n",
    "# Funkcija pogreske logisticke regresije\n",
    "def cross_entropy_error(X, y, w):\n",
    "    return np.mean(-y.reshape(-1, 1) * np.log(np.clip(lr_h(X, w), 1e-7, 1 - 1e-7)) - (1 - y.reshape(-1, 1)) * np.log(1 - np.clip(lr_h(X, w), 1e-7, 1 - 1e-7)))\n",
    "\n",
    "# Funkcija kojom se trenira model logisticke regresije\n",
    "def lr_train(X, y, eta=0.01, max_iter=2000, alpha=0, epsilon=0.0001, trace=False):\n",
    "    \n",
    "    weight_matrix = []\n",
    "    last_error = 0\n",
    "    w = np.zeros((X.shape[1] + 1, 1))\n",
    "\n",
    "    for i in range(max_iter + 1):\n",
    "\n",
    "        weight_matrix.append(w.copy())\n",
    "\n",
    "        cur_error = cross_entropy_error(X, y, w)\n",
    "        if np.abs(cur_error - last_error) < epsilon:\n",
    "            break\n",
    "\n",
    "        dw = np.zeros((X.shape[1] + 1, 1))\n",
    "\n",
    "        for j in range(X.shape[0]):\n",
    "\n",
    "            h = lr_h(X[j].reshape(1, -1), w)\n",
    "            dw = dw - (h - y[j].reshape(1, 1)) * np.append(1, X[j]).reshape(-1, 1)\n",
    "\n",
    "        w[0] = w[0] + eta * dw[0]\n",
    "        w[1:] = w[1:] * (1 - eta * alpha) + eta * dw[1:]\n",
    "\n",
    "    weight_matrix = np.array(weight_matrix)\n",
    "\n",
    "    if trace:\n",
    "        return w, weight_matrix\n",
    "    else:\n",
    "        return w"
   ]
  },
  {
   "cell_type": "code",
   "execution_count": 8,
   "metadata": {},
   "outputs": [
    {
     "name": "stdout",
     "output_type": "stream",
     "text": [
      "[[0.]\n",
      " [0.]\n",
      " [0.]\n",
      " [0.]\n",
      " [0.]]\n",
      "[[0]\n",
      " [0]\n",
      " [0]\n",
      " [0]\n",
      " [0]]\n",
      "Error: 0.015027815598625678\n"
     ]
    }
   ],
   "source": [
    "# Treniraj model, vrati tezine\n",
    "weights = lr_train(X_train, y_train, max_iter=2000, alpha=0.3)\n",
    "\n",
    "print(lr_h(X_train, weights).round()[-5:])\n",
    "print(y_train[-5:])\n",
    "\n",
    "# Ispis pogreske\n",
    "print(f'Error: {cross_entropy_error(X_train, y_train, weights)}')"
   ]
  },
  {
   "cell_type": "code",
   "execution_count": 9,
   "metadata": {},
   "outputs": [
    {
     "name": "stdout",
     "output_type": "stream",
     "text": [
      "[[1.]\n",
      " [1.]\n",
      " [1.]\n",
      " [0.]\n",
      " [1.]]\n",
      "[[1]\n",
      " [1]\n",
      " [0]\n",
      " [0]\n",
      " [0]]\n",
      "Error: 0.9644855486502654\n"
     ]
    }
   ],
   "source": [
    "print(lr_h(X_test, weights).round()[:5])\n",
    "print(y_test[:5])\n",
    "\n",
    "# Ispis pogreske\n",
    "print(f'Error: {cross_entropy_error(X_test, y_test, weights)}')"
   ]
  }
 ],
 "metadata": {
  "kernelspec": {
   "display_name": "Python 3",
   "language": "python",
   "name": "python3"
  },
  "language_info": {
   "codemirror_mode": {
    "name": "ipython",
    "version": 3
   },
   "file_extension": ".py",
   "mimetype": "text/x-python",
   "name": "python",
   "nbconvert_exporter": "python",
   "pygments_lexer": "ipython3",
   "version": "3.11.4"
  },
  "orig_nbformat": 4
 },
 "nbformat": 4,
 "nbformat_minor": 2
}
