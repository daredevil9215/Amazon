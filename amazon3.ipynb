{
 "cells": [
  {
   "cell_type": "code",
   "execution_count": null,
   "metadata": {},
   "outputs": [],
   "source": [
    "# Ucitaj numpy i pandas\n",
    "import numpy as np\n",
    "import pandas as pd"
   ]
  },
  {
   "cell_type": "code",
   "execution_count": null,
   "metadata": {},
   "outputs": [],
   "source": [
    "# Ucitaj trening podatke\n",
    "data_train = pd.read_csv('500train_BoW.csv')\n",
    "\n",
    "# Smanji TARGET za 1\n",
    "data_train['TARGET'] = data_train['TARGET'].apply(lambda x: x - 1)\n",
    "\n",
    "# Prikazi podatke\n",
    "data_train.head()"
   ]
  },
  {
   "cell_type": "code",
   "execution_count": null,
   "metadata": {},
   "outputs": [],
   "source": [
    "# Pretvori pandas DataFrame u numpy array\n",
    "\n",
    "# Ulazni podaci X sadrze sve osim stupca TARGET, stoga ga maknemo\n",
    "X_train = data_train.drop(columns=['TARGET']).to_numpy()[:int(data_train.shape[0] * 0.7)]\n",
    "\n",
    "#Izlazni podaci y su samo stupac TARGET\n",
    "y_train = data_train['TARGET'].to_numpy()[:int(data_train.shape[0] * 0.7)].reshape(-1, 1)\n",
    "\n",
    "X_test = data_train.drop(columns=['TARGET']).to_numpy()[int(data_train.shape[0] * 0.7):]\n",
    "y_test = data_train['TARGET'].to_numpy()[int(data_train.shape[0] * 0.7):].reshape(-1, 1)\n",
    "\n",
    "# Ispisi dimenzije podataka\n",
    "print(f'X_train shape: {X_train.shape}, y_train shape: {y_train.shape}')\n",
    "print(f'X_test shape: {X_test.shape}, y_test shape: {y_test.shape}')"
   ]
  },
  {
   "cell_type": "code",
   "execution_count": null,
   "metadata": {},
   "outputs": [],
   "source": [
    "# Funkcija logisticke regresije za predvidanje\n",
    "def lr_h(x, w):\n",
    "    x = np.append(np.ones((x.shape[0], 1)), x, axis=1)\n",
    "    return 1 / (1 + np.exp(-1 * x @ w))\n",
    "\n",
    "# Funkcija pogreske logisticke regresije\n",
    "def cross_entropy_error(X, y, w):\n",
    "    return np.mean(-y.reshape(-1, 1) * np.log(np.clip(lr_h(X, w), 1e-7, 1 - 1e-7)) - (1 - y.reshape(-1, 1)) * np.log(1 - np.clip(lr_h(X, w), 1e-7, 1 - 1e-7)))\n",
    "\n",
    "# Funkcija kojom se trenira model logisticke regresije\n",
    "def lr_train(X, y, eta=0.01, max_iter=2000, alpha=0, epsilon=0.0001, trace=False):\n",
    "    \n",
    "    weight_matrix = []\n",
    "    last_error = 0\n",
    "    w = np.zeros((X.shape[1] + 1, 1))\n",
    "\n",
    "    for i in range(max_iter + 1):\n",
    "\n",
    "        weight_matrix.append(w.copy())\n",
    "\n",
    "        cur_error = cross_entropy_error(X, y, w)\n",
    "        if np.abs(cur_error - last_error) < epsilon:\n",
    "            break\n",
    "        last_error = cur_error\n",
    "\n",
    "        dw = np.zeros((X.shape[1] + 1, 1))\n",
    "\n",
    "        for j in range(X.shape[0]):\n",
    "\n",
    "            h = lr_h(X[j].reshape(1, -1), w)\n",
    "            dw = dw - (h - y[j].reshape(1, 1)) * np.append(1, X[j]).reshape(-1, 1)\n",
    "\n",
    "        w[0] = w[0] + eta * dw[0]\n",
    "        w[1:] = w[1:] * (1 - eta * alpha) + eta * dw[1:]\n",
    "\n",
    "    weight_matrix = np.array(weight_matrix)\n",
    "\n",
    "    if trace:\n",
    "        return w, weight_matrix\n",
    "    else:\n",
    "        return w"
   ]
  },
  {
   "cell_type": "code",
   "execution_count": null,
   "metadata": {},
   "outputs": [],
   "source": [
    "# Treniraj model, vrati tezine\n",
    "weights = lr_train(X_train, y_train, max_iter=2000, alpha=0.1)\n",
    "\n",
    "# Ispis pogreske\n",
    "print(f'Error: {cross_entropy_error(X_train, y_train, weights)}')\n",
    "print(f'Accuracy: {np.mean(lr_h(X_train, weights).round() == y_train)}')"
   ]
  },
  {
   "cell_type": "code",
   "execution_count": null,
   "metadata": {},
   "outputs": [],
   "source": [
    "# Ispis pogreske\n",
    "print(f'Error: {cross_entropy_error(X_test, y_test, weights)}')\n",
    "print(f'Accuracy: {np.mean(lr_h(X_test, weights).round() == y_test)}')"
   ]
  },
  {
   "cell_type": "code",
   "execution_count": null,
   "metadata": {},
   "outputs": [],
   "source": [
    "from sklearn.linear_model import LogisticRegression\n",
    "\n",
    "model = LogisticRegression()\n",
    "model.fit(X_train, y_train.ravel())\n",
    "\n",
    "predict = model.predict(X_test)\n",
    "print(np.mean(predict.reshape(-1 ,1) == y_test))"
   ]
  }
 ],
 "metadata": {
  "kernelspec": {
   "display_name": "Python 3",
   "language": "python",
   "name": "python3"
  },
  "language_info": {
   "codemirror_mode": {
    "name": "ipython",
    "version": 3
   },
   "file_extension": ".py",
   "mimetype": "text/x-python",
   "name": "python",
   "nbconvert_exporter": "python",
   "pygments_lexer": "ipython3",
   "version": "3.11.4"
  },
  "orig_nbformat": 4
 },
 "nbformat": 4,
 "nbformat_minor": 2
}
